{
  "nbformat": 4,
  "nbformat_minor": 0,
  "metadata": {
    "colab": {
      "provenance": [],
      "authorship_tag": "ABX9TyPwzjtpN0271kqKLVzHIBXs",
      "include_colab_link": true
    },
    "kernelspec": {
      "name": "python3",
      "display_name": "Python 3"
    },
    "language_info": {
      "name": "python"
    }
  },
  "cells": [
    {
      "cell_type": "markdown",
      "metadata": {
        "id": "view-in-github",
        "colab_type": "text"
      },
      "source": [
        "<a href=\"https://colab.research.google.com/github/gsimeon/AI-For-Beginners/blob/main/Assignment_Arewa_kesson_1.ipynb\" target=\"_parent\"><img src=\"https://colab.research.google.com/assets/colab-badge.svg\" alt=\"Open In Colab\"/></a>"
      ]
    },
    {
      "cell_type": "code",
      "execution_count": null,
      "metadata": {
        "colab": {
          "base_uri": "https://localhost:8080/",
          "height": 35
        },
        "id": "KLArS9pyCS2K",
        "outputId": "b28bb1ae-2ac7-49b4-e97c-c4c7d463183a"
      },
      "outputs": [
        {
          "output_type": "execute_result",
          "data": {
            "text/plain": [
              "'2.5.1+cu121'"
            ],
            "application/vnd.google.colaboratory.intrinsic+json": {
              "type": "string"
            }
          },
          "metadata": {},
          "execution_count": 2
        }
      ],
      "source": [
        "import torch\n",
        "torch.__version__"
      ]
    },
    {
      "cell_type": "code",
      "source": [
        "# Create a random tensor of size (7, 7)\n",
        "Y = torch.rand(size=(7, 7))\n",
        "Y, Y.dtype"
      ],
      "metadata": {
        "colab": {
          "base_uri": "https://localhost:8080/"
        },
        "id": "c-nqMuJmC9Gv",
        "outputId": "1e35eb72-2e4f-49f7-d0cc-3a3cdb77caf9"
      },
      "execution_count": null,
      "outputs": [
        {
          "output_type": "execute_result",
          "data": {
            "text/plain": [
              "(tensor([[0.9191, 0.9220, 0.0034, 0.4932, 0.8817, 0.2728, 0.4311],\n",
              "         [0.5025, 0.1436, 0.5941, 0.5051, 0.5268, 0.1800, 0.9810],\n",
              "         [0.2647, 0.8458, 0.9199, 0.7094, 0.6582, 0.9288, 0.6968],\n",
              "         [0.5114, 0.4495, 0.9788, 0.9098, 0.1476, 0.1783, 0.1199],\n",
              "         [0.9974, 0.3922, 0.9110, 0.1106, 0.7318, 0.5124, 0.9822],\n",
              "         [0.3627, 0.9858, 0.3355, 0.8780, 0.5994, 0.6710, 0.6351],\n",
              "         [0.8928, 0.0192, 0.6613, 0.8836, 0.0164, 0.0172, 0.7352]]),\n",
              " torch.float32)"
            ]
          },
          "metadata": {},
          "execution_count": 3
        }
      ]
    },
    {
      "cell_type": "code",
      "source": [
        "# Perform a matrix multiplication on the tensor from 2 with another random tensor with shape (1, 7) (hint: you may have to transpose the second tensor).\n",
        "Y = torch.rand(size=(7, 7))\n",
        "Z = torch.rand(size=(1, 7))\n",
        "Y, Z\n",
        "X = torch.matmul(Y, Z.T)\n",
        "X, X.shape\n",
        "#"
      ],
      "metadata": {
        "colab": {
          "base_uri": "https://localhost:8080/"
        },
        "id": "tg54-ZlzEVAO",
        "outputId": "cdbcb6d7-d382-427f-8c51-2e3cea9ac29e"
      },
      "execution_count": null,
      "outputs": [
        {
          "output_type": "execute_result",
          "data": {
            "text/plain": [
              "(tensor([[2.0872],\n",
              "         [2.4793],\n",
              "         [1.2806],\n",
              "         [2.0890],\n",
              "         [1.9042],\n",
              "         [2.4884],\n",
              "         [1.0742]]),\n",
              " torch.Size([7, 1]))"
            ]
          },
          "metadata": {},
          "execution_count": 4
        }
      ]
    },
    {
      "cell_type": "code",
      "source": [
        "#Set the random seed to 0 and do 2 & 3 over again\n",
        "import torch\n",
        "torch.manual_seed(0)\n",
        "Y = torch.rand(size=(7, 7))\n",
        "Z = torch.rand(size=(1, 7))\n",
        "Y, Z\n",
        "X = torch.matmul(Y, Z.T)\n",
        "X, X.shape\n",
        "#"
      ],
      "metadata": {
        "colab": {
          "base_uri": "https://localhost:8080/"
        },
        "id": "MYyqqwkvMOat",
        "outputId": "99a8d16f-69fe-47fb-fffb-d879ceeeaeac"
      },
      "execution_count": null,
      "outputs": [
        {
          "output_type": "execute_result",
          "data": {
            "text/plain": [
              "(tensor([[1.8542],\n",
              "         [1.9611],\n",
              "         [2.2884],\n",
              "         [3.0481],\n",
              "         [1.7067],\n",
              "         [2.5290],\n",
              "         [1.7989]]),\n",
              " torch.Size([7, 1]))"
            ]
          },
          "metadata": {},
          "execution_count": 2
        }
      ]
    },
    {
      "cell_type": "code",
      "source": [
        "import torch"
      ],
      "metadata": {
        "id": "UEI1cFMa-0HH"
      },
      "execution_count": 2,
      "outputs": []
    },
    {
      "cell_type": "markdown",
      "source": [
        "2. Create a random tensor with shape (7, 7).**\n"
      ],
      "metadata": {
        "id": "DaVVPQt3cek4"
      }
    },
    {
      "cell_type": "code",
      "source": [
        "# Create a random tensor with shape (7, 7)\n",
        "X = torch.rand(size=(7, 7))\n",
        "X, X.shape"
      ],
      "metadata": {
        "colab": {
          "base_uri": "https://localhost:8080/"
        },
        "id": "nIz4zJ3KcnYj",
        "outputId": "35725e0a-5d82-42ff-8f98-8e4f269062aa"
      },
      "execution_count": 3,
      "outputs": [
        {
          "output_type": "execute_result",
          "data": {
            "text/plain": [
              "(tensor([[0.8821, 0.6947, 0.0121, 0.5378, 0.3031, 0.3743, 0.7720],\n",
              "         [0.1825, 0.5919, 0.4320, 0.3706, 0.7459, 0.0158, 0.8811],\n",
              "         [0.3602, 0.5230, 0.7228, 0.8082, 0.6798, 0.7125, 0.2525],\n",
              "         [0.2539, 0.8123, 0.5865, 0.4701, 0.2704, 0.6263, 0.4433],\n",
              "         [0.7361, 0.5087, 0.7734, 0.6699, 0.9080, 0.1571, 0.3366],\n",
              "         [0.2283, 0.9190, 0.8339, 0.3973, 0.7508, 0.2352, 0.6268],\n",
              "         [0.2422, 0.6756, 0.7258, 0.1793, 0.0615, 0.9089, 0.6789]]),\n",
              " torch.Size([7, 7]))"
            ]
          },
          "metadata": {},
          "execution_count": 3
        }
      ]
    },
    {
      "cell_type": "markdown",
      "source": [
        "**3. Perform a matrix multiplication on the tensor from 2 with another random tensor with shape (1, 7) (hint: you may have to transpose the second tensor).**"
      ],
      "metadata": {
        "id": "XwKmZhHCdEQq"
      }
    },
    {
      "cell_type": "code",
      "source": [
        "# 3. Perform a matrix multiplication on the tensor from 2 with another random tensor with shape (1, 7) (hint: you may have to transpose the second tensor).\n",
        "Y = torch.rand(size=(1, 7))\n",
        "X = torch.matmul(X, Y.T)\n",
        "X, X.shape\n"
      ],
      "metadata": {
        "colab": {
          "base_uri": "https://localhost:8080/"
        },
        "id": "-mi1BzpfdNgF",
        "outputId": "e1e7b64f-0f6c-4ee4-c165-415ba09b66fa"
      },
      "execution_count": 4,
      "outputs": [
        {
          "output_type": "execute_result",
          "data": {
            "text/plain": [
              "(tensor([[0.9460],\n",
              "         [0.9780],\n",
              "         [1.1611],\n",
              "         [0.8968],\n",
              "         [1.0437],\n",
              "         [1.0310],\n",
              "         [0.9494]]),\n",
              " torch.Size([7, 1]))"
            ]
          },
          "metadata": {},
          "execution_count": 4
        }
      ]
    },
    {
      "cell_type": "markdown",
      "source": [
        "**Set the random seed to 0 and do 2 & 3 over again**"
      ],
      "metadata": {
        "id": "JEiTsOZ-dc24"
      }
    },
    {
      "cell_type": "code",
      "source": [
        "# Set the random seed to 0 and do 2 & 3 over again\n",
        "torch.manual_seed(0)\n",
        "X = torch.rand(size=(7, 7))\n",
        "Y = torch.rand(size=(1, 7))\n",
        "X = torch.matmul(X, Y.T)\n",
        "X, X.shape"
      ],
      "metadata": {
        "colab": {
          "base_uri": "https://localhost:8080/"
        },
        "id": "VukKs1XsdDEE",
        "outputId": "d1cf31f9-0a3e-40a5-b655-913b2af80a25"
      },
      "execution_count": 5,
      "outputs": [
        {
          "output_type": "execute_result",
          "data": {
            "text/plain": [
              "(tensor([[1.8542],\n",
              "         [1.9611],\n",
              "         [2.2884],\n",
              "         [3.0481],\n",
              "         [1.7067],\n",
              "         [2.5290],\n",
              "         [1.7989]]),\n",
              " torch.Size([7, 1]))"
            ]
          },
          "metadata": {},
          "execution_count": 5
        }
      ]
    },
    {
      "cell_type": "markdown",
      "source": [
        "**Speaking of random seeds, we saw how to set it with torch.manual_seed() but is there a GPU equivalent? (hint: you'll need to look into the documentation for torch.cuda for this one)**"
      ],
      "metadata": {
        "id": "LFHEYW8Fdu4R"
      }
    },
    {
      "cell_type": "code",
      "source": [
        "# Speaking of random seeds, we saw how to set it with torch.manual_seed() but is there a GPU equivalent? (hint: you'll need to look into the documentation for torch.cuda for this one)\n",
        "torch.cuda.is_available()\n",
        "!nvidia-smi\n",
        "# set the GPU random seed to 1234\n",
        "torch.cuda.manual_seed(1234)\n"
      ],
      "metadata": {
        "colab": {
          "base_uri": "https://localhost:8080/"
        },
        "id": "N65u63CTd15l",
        "outputId": "188444a8-d65d-4da9-a323-fe081f963f67"
      },
      "execution_count": 10,
      "outputs": [
        {
          "output_type": "stream",
          "name": "stdout",
          "text": [
            "/bin/bash: line 1: nvidia-smi: command not found\n"
          ]
        }
      ]
    },
    {
      "cell_type": "markdown",
      "source": [
        "**Create two random tensors of shape (2, 3) and send them both to the GPU (you'll need access to a GPU for this). Set torch.manual_seed(1234) when creating the tensors (this doesn't have to be the GPU random seed). The output should be something like:**"
      ],
      "metadata": {
        "id": "EWK_FhKheDb5"
      }
    },
    {
      "cell_type": "code",
      "source": [
        "# Create two random tensors of shape (2, 3) and send them both to the GPU (you'll need access to a GPU for this).\n",
        "# Set torch.manual_seed(1234) when creating the tensors (this doesn't have to be the GPU random seed).\n",
        "# The output should be something like:\n",
        "torch.manual_seed(1234)\n",
        "X = torch.rand(size=(2, 3)).to(\"cuda\")\n",
        "Y = torch.rand(size=(2, 3)).to(\"cuda\")\n",
        "X, Y"
      ],
      "metadata": {
        "colab": {
          "base_uri": "https://localhost:8080/",
          "height": 349
        },
        "id": "l-C2ZE4oeouT",
        "outputId": "32a8792b-396c-416b-8a2f-02dc679ae060"
      },
      "execution_count": 8,
      "outputs": [
        {
          "output_type": "error",
          "ename": "RuntimeError",
          "evalue": "Found no NVIDIA driver on your system. Please check that you have an NVIDIA GPU and installed a driver from http://www.nvidia.com/Download/index.aspx",
          "traceback": [
            "\u001b[0;31m---------------------------------------------------------------------------\u001b[0m",
            "\u001b[0;31mRuntimeError\u001b[0m                              Traceback (most recent call last)",
            "\u001b[0;32m<ipython-input-8-72ebdaf467a8>\u001b[0m in \u001b[0;36m<cell line: 0>\u001b[0;34m()\u001b[0m\n\u001b[1;32m      3\u001b[0m \u001b[0;31m# The output should be something like:\u001b[0m\u001b[0;34m\u001b[0m\u001b[0;34m\u001b[0m\u001b[0m\n\u001b[1;32m      4\u001b[0m \u001b[0mtorch\u001b[0m\u001b[0;34m.\u001b[0m\u001b[0mmanual_seed\u001b[0m\u001b[0;34m(\u001b[0m\u001b[0;36m1234\u001b[0m\u001b[0;34m)\u001b[0m\u001b[0;34m\u001b[0m\u001b[0;34m\u001b[0m\u001b[0m\n\u001b[0;32m----> 5\u001b[0;31m \u001b[0mX\u001b[0m \u001b[0;34m=\u001b[0m \u001b[0mtorch\u001b[0m\u001b[0;34m.\u001b[0m\u001b[0mrand\u001b[0m\u001b[0;34m(\u001b[0m\u001b[0msize\u001b[0m\u001b[0;34m=\u001b[0m\u001b[0;34m(\u001b[0m\u001b[0;36m2\u001b[0m\u001b[0;34m,\u001b[0m \u001b[0;36m3\u001b[0m\u001b[0;34m)\u001b[0m\u001b[0;34m)\u001b[0m\u001b[0;34m.\u001b[0m\u001b[0mto\u001b[0m\u001b[0;34m(\u001b[0m\u001b[0;34m\"cuda\"\u001b[0m\u001b[0;34m)\u001b[0m\u001b[0;34m\u001b[0m\u001b[0;34m\u001b[0m\u001b[0m\n\u001b[0m\u001b[1;32m      6\u001b[0m \u001b[0mY\u001b[0m \u001b[0;34m=\u001b[0m \u001b[0mtorch\u001b[0m\u001b[0;34m.\u001b[0m\u001b[0mrand\u001b[0m\u001b[0;34m(\u001b[0m\u001b[0msize\u001b[0m\u001b[0;34m=\u001b[0m\u001b[0;34m(\u001b[0m\u001b[0;36m2\u001b[0m\u001b[0;34m,\u001b[0m \u001b[0;36m3\u001b[0m\u001b[0;34m)\u001b[0m\u001b[0;34m)\u001b[0m\u001b[0;34m.\u001b[0m\u001b[0mto\u001b[0m\u001b[0;34m(\u001b[0m\u001b[0;34m\"cuda\"\u001b[0m\u001b[0;34m)\u001b[0m\u001b[0;34m\u001b[0m\u001b[0;34m\u001b[0m\u001b[0m\n\u001b[1;32m      7\u001b[0m \u001b[0mX\u001b[0m\u001b[0;34m,\u001b[0m \u001b[0mY\u001b[0m\u001b[0;34m\u001b[0m\u001b[0;34m\u001b[0m\u001b[0m\n",
            "\u001b[0;32m/usr/local/lib/python3.11/dist-packages/torch/cuda/__init__.py\u001b[0m in \u001b[0;36m_lazy_init\u001b[0;34m()\u001b[0m\n\u001b[1;32m    317\u001b[0m         \u001b[0;32mif\u001b[0m \u001b[0;34m\"CUDA_MODULE_LOADING\"\u001b[0m \u001b[0;32mnot\u001b[0m \u001b[0;32min\u001b[0m \u001b[0mos\u001b[0m\u001b[0;34m.\u001b[0m\u001b[0menviron\u001b[0m\u001b[0;34m:\u001b[0m\u001b[0;34m\u001b[0m\u001b[0;34m\u001b[0m\u001b[0m\n\u001b[1;32m    318\u001b[0m             \u001b[0mos\u001b[0m\u001b[0;34m.\u001b[0m\u001b[0menviron\u001b[0m\u001b[0;34m[\u001b[0m\u001b[0;34m\"CUDA_MODULE_LOADING\"\u001b[0m\u001b[0;34m]\u001b[0m \u001b[0;34m=\u001b[0m \u001b[0;34m\"LAZY\"\u001b[0m\u001b[0;34m\u001b[0m\u001b[0;34m\u001b[0m\u001b[0m\n\u001b[0;32m--> 319\u001b[0;31m         \u001b[0mtorch\u001b[0m\u001b[0;34m.\u001b[0m\u001b[0m_C\u001b[0m\u001b[0;34m.\u001b[0m\u001b[0m_cuda_init\u001b[0m\u001b[0;34m(\u001b[0m\u001b[0;34m)\u001b[0m\u001b[0;34m\u001b[0m\u001b[0;34m\u001b[0m\u001b[0m\n\u001b[0m\u001b[1;32m    320\u001b[0m         \u001b[0;31m# Some of the queued calls may reentrantly call _lazy_init();\u001b[0m\u001b[0;34m\u001b[0m\u001b[0;34m\u001b[0m\u001b[0m\n\u001b[1;32m    321\u001b[0m         \u001b[0;31m# we need to just return without initializing in that case.\u001b[0m\u001b[0;34m\u001b[0m\u001b[0;34m\u001b[0m\u001b[0m\n",
            "\u001b[0;31mRuntimeError\u001b[0m: Found no NVIDIA driver on your system. Please check that you have an NVIDIA GPU and installed a driver from http://www.nvidia.com/Download/index.aspx"
          ]
        }
      ]
    },
    {
      "cell_type": "markdown",
      "source": [],
      "metadata": {
        "id": "eWM4BKt8fLiB"
      }
    }
  ]
}